{
 "cells": [
  {
   "cell_type": "code",
   "execution_count": 53,
   "metadata": {},
   "outputs": [],
   "source": [
    "# %load assignment1.py\n"
   ]
  },
  {
   "cell_type": "code",
   "execution_count": 9,
   "metadata": {},
   "outputs": [
    {
     "name": "stdout",
     "output_type": "stream",
     "text": [
      "donuts\n",
      " OK  got: 'Number of donuts: 4' expected: 'Number of donuts: 4'\n",
      " OK  got: 'Number of donuts: 9' expected: 'Number of donuts: 9'\n",
      " OK  got: 'Number of donuts: many' expected: 'Number of donuts: many'\n",
      " OK  got: 'Number of donuts: many' expected: 'Number of donuts: many'\n",
      "\n",
      "both_ends\n",
      " OK  got: 'spng' expected: 'spng'\n",
      " OK  got: 'Helo' expected: 'Helo'\n",
      " OK  got: '' expected: ''\n",
      " OK  got: 'xyyz' expected: 'xyyz'\n",
      "\n",
      "fix_start\n",
      " OK  got: 'ba**le' expected: 'ba**le'\n",
      " OK  got: 'a*rdv*rk' expected: 'a*rdv*rk'\n",
      " OK  got: 'goo*le' expected: 'goo*le'\n",
      " OK  got: 'donut' expected: 'donut'\n",
      "\n",
      "mix_up\n",
      " OK  got: 'pox mid' expected: 'pox mid'\n",
      " OK  got: 'dig donner' expected: 'dig donner'\n",
      " OK  got: 'spash gnort' expected: 'spash gnort'\n",
      " OK  got: 'fizzy perm' expected: 'fizzy perm'\n"
     ]
    }
   ],
   "source": [
    "# Basic string exercises\n",
    "# Fill in the code for the functions below. main() is already set up\n",
    "# to call the functions with a few different inputs,\n",
    "# printing 'OK' when each function is correct.\n",
    "# The starter code for each function includes a 'return'\n",
    "# which is just a placeholder for your code.\n",
    "# It's ok if you do not complete all the functions, and there\n",
    "# are some additional functions to try in assignment2.py.\n",
    "\n",
    "\n",
    "# A. donuts\n",
    "# Given an int count of a number of donuts, return a string\n",
    "# of the form 'Number of donuts: <count>', where <count> is the number\n",
    "# passed in. However, if the count is 10 or more, then use the word 'many'\n",
    "# instead of the actual count.\n",
    "# So donuts(5) returns 'Number of donuts: 5'\n",
    "# and donuts(23) returns 'Number of donuts: many'\n",
    "def donuts(count):\n",
    "    if count >=10:\n",
    "        return(\"Number of donuts: many\")\n",
    "    else:\n",
    "        return (\"Number of donuts: \"+str(count))\n",
    "\n",
    "# B. both_ends\n",
    "# Given a string s, return a string made of the first 2\n",
    "# and the last 2 chars of the original string,\n",
    "# so 'spring' yields 'spng'. However, if the string length\n",
    "# is less than 2, return instead the empty string.\n",
    "def both_ends(s):\n",
    "    if len(s) < 2:\n",
    "        return(\"\")\n",
    "    else:\n",
    "        return(s[0:2]+s[-2:])\n",
    "\n",
    "\n",
    "# C. fix_start\n",
    "# Given a string s, return a string\n",
    "# where all occurences of its first char have\n",
    "# been changed to '*', except do not change\n",
    "# the first char itself.\n",
    "# e.g. 'babble' yields 'ba**le'\n",
    "# Assume that the string is length 1 or more.\n",
    "# Hint: s.replace(stra, strb) returns a version of string s\n",
    "# where all instances of stra have been replaced by strb.\n",
    "def fix_start(s):\n",
    "    a=\"*\"\n",
    "    c=s[0]\n",
    "    for x in s[1:]:\n",
    "        if x == s[0]:\n",
    "            c+=a\n",
    "        else:\n",
    "            c+=x\n",
    "    return(c)\n",
    "\n",
    "\n",
    "# D. MixUp\n",
    "# Given strings a and b, return a single string with a and b separated\n",
    "# by a space '<a> <b>', except swap the first 2 chars of each string.\n",
    "# e.g.\n",
    "#   'mix', pod' -> 'pox mid'\n",
    "#   'dog', 'dinner' -> 'dig donner'\n",
    "# Assume a and b are length 2 or more.\n",
    "def mix_up(a, b):\n",
    "\n",
    "    x = a[0:2]\n",
    "    y = b[0:2]\n",
    "\n",
    "    c=a.replace(a[0:2],y)\n",
    "    d= b.replace(b[0:2],x)\n",
    "    return(c+\" \"+d)\n",
    "\n",
    "\n",
    "# Provided simple test() function used in main() to print\n",
    "# what each function returns vs. what it's supposed to return.\n",
    "def test(got, expected):\n",
    "    if got == expected:\n",
    "        prefix = ' OK '\n",
    "    else:\n",
    "        prefix = '  X '\n",
    "    print ('%s got: %s expected: %s' % (prefix, repr(got), repr(expected)))\n",
    "\n",
    "\n",
    "# Provided main() calls the above functions with interesting inputs,\n",
    "# using test() to check if each result is correct or not.\n",
    "def main():\n",
    "    print( 'donuts')\n",
    "  # Each line calls donuts, compares its result to the expected for that call.\n",
    "    test(donuts(4), 'Number of donuts: 4')\n",
    "    test(donuts(9), 'Number of donuts: 9')\n",
    "    test(donuts(10), 'Number of donuts: many')\n",
    "    test(donuts(99), 'Number of donuts: many')\n",
    "\n",
    "    print()\n",
    "    print ('both_ends')\n",
    "    test(both_ends('spring'), 'spng')\n",
    "    test(both_ends('Hello'), 'Helo')\n",
    "    test(both_ends('a'), '')\n",
    "    test(both_ends('xyz'), 'xyyz')\n",
    "\n",
    "\n",
    "    print()\n",
    "    print ('fix_start')\n",
    "    test(fix_start('babble'), 'ba**le')\n",
    "    test(fix_start('aardvark'), 'a*rdv*rk')\n",
    "    test(fix_start('google'), 'goo*le')\n",
    "    test(fix_start('donut'), 'donut')\n",
    "\n",
    "    print()\n",
    "    print ('mix_up')\n",
    "    test(mix_up('mix', 'pod'), 'pox mid')\n",
    "    test(mix_up('dog', 'dinner'), 'dig donner')\n",
    "    test(mix_up('gnash', 'sport'), 'spash gnort')\n",
    "    test(mix_up('pezzy', 'firm'), 'fizzy perm')\n",
    "\n",
    "\n",
    "# Standard boilerplate to call the main() function.\n",
    "if __name__ == '__main__':\n",
    "    main()\n"
   ]
  },
  {
   "cell_type": "code",
   "execution_count": 3,
   "metadata": {},
   "outputs": [
    {
     "name": "stdout",
     "output_type": "stream",
     "text": [
      "spng\n"
     ]
    }
   ],
   "source": [
    "a = \"spring\"\n",
    "print(a[0:2] + a[-2:] )"
   ]
  },
  {
   "cell_type": "code",
   "execution_count": 6,
   "metadata": {},
   "outputs": [
    {
     "name": "stdout",
     "output_type": "stream",
     "text": [
      "*a**le\n"
     ]
    }
   ],
   "source": [
    "s = \"babble\"\n",
    "stra=\"b\"\n",
    "strb=\"*\"\n",
    "print(s.replace(stra,strb))\n"
   ]
  },
  {
   "cell_type": "code",
   "execution_count": 12,
   "metadata": {},
   "outputs": [
    {
     "name": "stdout",
     "output_type": "stream",
     "text": [
      "*a**le\n"
     ]
    }
   ],
   "source": [
    "s=\"babble\"\n",
    "strb = \"*\"\n",
    "stra=s[0]\n",
    "a = s.replace(stra,strb)\n",
    "\n",
    "\n",
    "print(a)\n",
    "\n"
   ]
  },
  {
   "cell_type": "code",
   "execution_count": 46,
   "metadata": {},
   "outputs": [
    {
     "name": "stdout",
     "output_type": "stream",
     "text": [
      "mi\n",
      "po\n",
      "pox\n",
      "mid\n"
     ]
    }
   ],
   "source": [
    "a= \"mix\"\n",
    "b = \"pod\"\n",
    "x = a[0:2]\n",
    "y = b[0:2]\n",
    "print(x)\n",
    "print(y)\n",
    "c=a.replace(a[0:2],y)\n",
    "d= b.replace(b[0:2],x)\n",
    "print(c)\n",
    "print(d)"
   ]
  },
  {
   "cell_type": "code",
   "execution_count": 56,
   "metadata": {},
   "outputs": [
    {
     "ename": "TypeError",
     "evalue": "'str' object does not support item assignment",
     "output_type": "error",
     "traceback": [
      "\u001b[1;31m---------------------------------------------------------------------------\u001b[0m",
      "\u001b[1;31mTypeError\u001b[0m                                 Traceback (most recent call last)",
      "\u001b[1;32m<ipython-input-56-a0ddb69ee44e>\u001b[0m in \u001b[0;36m<module>\u001b[1;34m()\u001b[0m\n\u001b[0;32m      1\u001b[0m \u001b[0ma\u001b[0m\u001b[1;33m=\u001b[0m\u001b[1;34m\"asdfasfa\"\u001b[0m\u001b[1;33m\u001b[0m\u001b[0m\n\u001b[1;32m----> 2\u001b[1;33m \u001b[0ma\u001b[0m\u001b[1;33m[\u001b[0m\u001b[1;36m0\u001b[0m\u001b[1;33m]\u001b[0m\u001b[1;33m=\u001b[0m\u001b[1;34m\"b\"\u001b[0m\u001b[1;33m\u001b[0m\u001b[0m\n\u001b[0m\u001b[0;32m      3\u001b[0m \u001b[0mprint\u001b[0m\u001b[1;33m(\u001b[0m\u001b[0ma\u001b[0m\u001b[1;33m)\u001b[0m\u001b[1;33m\u001b[0m\u001b[0m\n",
      "\u001b[1;31mTypeError\u001b[0m: 'str' object does not support item assignment"
     ]
    }
   ],
   "source": [
    "a=\"asdfasfa\"\n",
    "a[0]=\"b\"\n",
    "print(a)"
   ]
  },
  {
   "cell_type": "code",
   "execution_count": 6,
   "metadata": {},
   "outputs": [
    {
     "name": "stdout",
     "output_type": "stream",
     "text": [
      "b\n"
     ]
    }
   ],
   "source": [
    "s = \"babble\"\n",
    "count=\"\"\n",
    "temp=s[0]\n",
    "count+=temp\n",
    "\"\"\"for x in range(1,len(s)):\n",
    "    if s[x]==temp:\n",
    "        count+=\"*\"\n",
    "    else:\n",
    "        count+=s[x]\"\"\"\n",
    "print(count)"
   ]
  },
  {
   "cell_type": "code",
   "execution_count": null,
   "metadata": {},
   "outputs": [],
   "source": []
  }
 ],
 "metadata": {
  "kernelspec": {
   "display_name": "Python 3",
   "language": "python",
   "name": "python3"
  },
  "language_info": {
   "codemirror_mode": {
    "name": "ipython",
    "version": 3
   },
   "file_extension": ".py",
   "mimetype": "text/x-python",
   "name": "python",
   "nbconvert_exporter": "python",
   "pygments_lexer": "ipython3",
   "version": "3.6.5"
  }
 },
 "nbformat": 4,
 "nbformat_minor": 2
}
